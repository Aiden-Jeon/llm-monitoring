{
 "cells": [
  {
   "cell_type": "markdown",
   "metadata": {},
   "source": [
    "# 3. Dataset\n",
    "\n",
    "This code is from https://github.com/xuro-langchain/eli5/blob/main/eli5_experiment.ipynb"
   ]
  },
  {
   "cell_type": "code",
   "execution_count": 2,
   "metadata": {},
   "outputs": [
    {
     "data": {
      "text/plain": [
       "True"
      ]
     },
     "execution_count": 2,
     "metadata": {},
     "output_type": "execute_result"
    }
   ],
   "source": [
    "from dotenv import load_dotenv\n",
    "\n",
    "# 환경 변수 로드\n",
    "load_dotenv(dotenv_path=\".env\", override=True)"
   ]
  },
  {
   "cell_type": "markdown",
   "metadata": {},
   "source": [
    "### Import LangSmith Client"
   ]
  },
  {
   "cell_type": "markdown",
   "metadata": {},
   "source": [
    "First, we'll create a LangSmith client to use the SDK, and specify the dataset we'd like to run our experiment on."
   ]
  },
  {
   "cell_type": "code",
   "execution_count": 3,
   "metadata": {},
   "outputs": [],
   "source": [
    "from langsmith import Client\n",
    "\n",
    "client = Client()\n",
    "dataset_name = \"dataset-exmaple\""
   ]
  },
  {
   "cell_type": "markdown",
   "metadata": {},
   "source": [
    "## Upload Dataset to LangSmith"
   ]
  },
  {
   "cell_type": "markdown",
   "metadata": {},
   "source": [
    "### Create Dataset"
   ]
  },
  {
   "cell_type": "code",
   "execution_count": null,
   "metadata": {},
   "outputs": [],
   "source": [
    "# Create dataset in LangSmith\n",
    "try:\n",
    "    # Try to read the dataset first to see if it already exists\n",
    "    existing_dataset = client.read_dataset(dataset_name=dataset_name)\n",
    "    print(\n",
    "        f\"Dataset '{dataset_name}' already exists with {len(list(client.list_examples(dataset_name=dataset_name)))} examples\"\n",
    "    )\n",
    "except:\n",
    "    # Dataset doesn't exist, create it\n",
    "    dataset = client.create_dataset(\n",
    "        dataset_name=dataset_name,\n",
    "        description=\"Dataset for evaluating AI explanations\",\n",
    "    )"
   ]
  },
  {
   "cell_type": "markdown",
   "metadata": {},
   "source": [
    "### Create Examples"
   ]
  },
  {
   "cell_type": "code",
   "execution_count": null,
   "metadata": {},
   "outputs": [],
   "source": [
    "records = [\n",
    "    {\n",
    "        \"input_question\": \"What is sound?\",\n",
    "        \"output_output\": \"Okay! Imagine you have a drum. When you hit it, the drum shakes, right? That shaking is called a vibration. Now, when the drum shakes, it makes the air around it wiggle too, almost like when you throw a rock in a pond and the water makes little waves. These wiggles in the air are what we call sound! So, sound is like little invisible wiggles in the air that our ears can feel and hear. Just like how you can hear your friend calling you or your favorite song, those are sounds!\",\n",
    "    },\n",
    "    {\n",
    "        \"input_question\": \"How does string theory work?\",\n",
    "        \"output_output\": \"Okay! Imagine that everything in the universe, like stars, trees, and even you, is made of tiny building blocks, kind of like LEGO bricks. Now, in string theory, instead of those building blocks being tiny dots, they are super tiny strings, like the strings on a guitar! These strings can wiggle and vibrate. Picture a guitar playing different notes – when a string vibrates in different ways, it makes different sounds. In the same way, when these tiny strings vibrate differently, they become different things, like particles that make up everything you see around you. So, when the strings wiggle and dance around in space, they interact with each other – sometimes they might hug and combine, and other times they might bounce off each other, just like friends playing together. When we look closely at these strings, they act like the little particles we learn about in science. In short, string theory is like saying that everything is made of tiny, wiggly strings, and how they dance and vibrate tells us all about the world we live in!\",\n",
    "    },\n",
    "    {\n",
    "        \"input_question\": \"How does a democracy work?\",\n",
    "        \"output_output\": \"Okay! Imagine you and your friends want to decide what game to play. Instead of just one person deciding, everyone gets a turn to say what they want. In a democracy, it’s like that, but for the whole country! Here’s how it works: 1. **Everyone Has a Voice**: Just like you and your friends all get to say what game you want, in a democracy, everyone gets to share their opinions. This means that everyone gets to vote on important things. 2. **Voting**: When it’s time to make a decision, like picking a leader or a new law, everyone votes. Voting is like marking your favorite game on a piece of paper. The choice with the most votes wins! 3. **Leaders**: The people who get the most votes (like class leaders) are called leaders too! They help make the rules and decisions for everyone. 4. **Fairness**: Everyone is treated equally, so whether you’re big or small, everyone’s voice is important! 5. **Change is Possible**: If people don’t like something, they can vote again later or even choose new leaders. It's like changing the game if everyone wants to play something different. So, in a democracy, people work together to decide what’s best for everyone by talking, voting, and making sure everyone can be heard!\",\n",
    "    },\n",
    "]\n",
    "\n",
    "# Convert to LangSmith format\n",
    "examples = []\n",
    "for row in records:\n",
    "    examples.append(\n",
    "        {\n",
    "            \"inputs\": {\"question\": row[\"input_question\"]},\n",
    "            \"outputs\": {\"output\": row[\"output_output\"]},\n",
    "        }\n",
    "    )"
   ]
  },
  {
   "cell_type": "code",
   "execution_count": null,
   "metadata": {},
   "outputs": [
    {
     "name": "stdout",
     "output_type": "stream",
     "text": [
      "Successfully created dataset 'dataset-exmaple' with 3 examples\n"
     ]
    }
   ],
   "source": [
    "# Add examples to the dataset\n",
    "client.create_examples(\n",
    "    inputs=[ex[\"inputs\"] for ex in examples],\n",
    "    outputs=[ex[\"outputs\"] for ex in examples],\n",
    "    dataset_id=dataset.id,\n",
    ")\n",
    "\n",
    "print(\n",
    "    f\"Successfully created dataset '{dataset_name}' with {len(examples)} examples\"\n",
    ")"
   ]
  },
  {
   "cell_type": "markdown",
   "metadata": {},
   "source": [
    "### Check uploaded dataset"
   ]
  },
  {
   "cell_type": "code",
   "execution_count": 6,
   "metadata": {},
   "outputs": [
    {
     "data": {
      "text/plain": [
       "Dataset(name='dataset-exmaple', description='Dataset for evaluating AI explanations', data_type=<DataType.kv: 'kv'>, id=UUID('6d5d2e33-c756-4a6b-ad16-364e6196bf03'), created_at=datetime.datetime(2025, 7, 30, 4, 23, 20, 986084, tzinfo=datetime.timezone.utc), modified_at=datetime.datetime(2025, 7, 30, 4, 23, 20, 986084, tzinfo=datetime.timezone.utc), example_count=3, session_count=0, last_session_start_time=None, inputs_schema=None, outputs_schema=None, transformations=None)"
      ]
     },
     "execution_count": 6,
     "metadata": {},
     "output_type": "execute_result"
    }
   ],
   "source": [
    "existing_dataset = client.read_dataset(dataset_name=dataset_name)\n",
    "existing_dataset"
   ]
  }
 ],
 "metadata": {
  "kernelspec": {
   "display_name": "llm-monitoring-3.11.11",
   "language": "python",
   "name": "python3"
  },
  "language_info": {
   "codemirror_mode": {
    "name": "ipython",
    "version": 3
   },
   "file_extension": ".py",
   "mimetype": "text/x-python",
   "name": "python",
   "nbconvert_exporter": "python",
   "pygments_lexer": "ipython3",
   "version": "3.11.11"
  }
 },
 "nbformat": 4,
 "nbformat_minor": 4
}
